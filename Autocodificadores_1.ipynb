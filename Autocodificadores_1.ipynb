{
 "cells": [
  {
   "cell_type": "code",
   "execution_count": 1,
   "metadata": {},
   "outputs": [],
   "source": [
    "import pandas as pd"
   ]
  },
  {
   "cell_type": "code",
   "execution_count": 2,
   "metadata": {},
   "outputs": [],
   "source": [
    "data = pd.read_csv(\"./data/UK_foods.csv\")"
   ]
  },
  {
   "cell_type": "code",
   "execution_count": 3,
   "metadata": {},
   "outputs": [],
   "source": [
    "df_melted = data.melt(id_vars='Product', var_name='Country', value_name='Consumption')\n",
    "df_pivoted = df_melted.pivot(index='Country', columns='Product', values='Consumption')"
   ]
  },
  {
   "cell_type": "code",
   "execution_count": 8,
   "metadata": {},
   "outputs": [
    {
     "name": "stdout",
     "output_type": "stream",
     "text": [
      "Index(['Alcoholic_drinks ', 'Beverages', 'Carcass_meat ', 'Cereals ', 'Cheese',\n",
      "       'Confectionery ', 'Fats_and_oils ', 'Fish', 'Fresh_Veg ',\n",
      "       'Fresh_fruit ', 'Fresh_potatoes ', 'Other_Veg ', 'Other_meat ',\n",
      "       'Processed_Veg ', 'Processed_potatoes ', 'Soft_drinks ', 'Sugars'],\n",
      "      dtype='object', name='Product')\n"
     ]
    }
   ],
   "source": [
    "print(df_pivoted.columns)"
   ]
  }
 ],
 "metadata": {
  "kernelspec": {
   "display_name": "Python 3",
   "language": "python",
   "name": "python3"
  },
  "language_info": {
   "codemirror_mode": {
    "name": "ipython",
    "version": 3
   },
   "file_extension": ".py",
   "mimetype": "text/x-python",
   "name": "python",
   "nbconvert_exporter": "python",
   "pygments_lexer": "ipython3",
   "version": "3.11.3"
  },
  "orig_nbformat": 4
 },
 "nbformat": 4,
 "nbformat_minor": 2
}
